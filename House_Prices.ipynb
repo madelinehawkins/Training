{
 "cells": [
  {
   "cell_type": "code",
   "execution_count": 9,
   "metadata": {
    "collapsed": false
   },
   "outputs": [],
   "source": [
    "# Imports\n",
    "import matplotlib.pyplot as plt\n",
    "import numpy as np\n",
    "import pandas as pd\n",
    "from pandas import Series, DataFrame\n",
    "\n",
    "# Import training data to pandas dataframe\n",
    "df = pd.read_csv(\"train.csv\")\n",
    "df.hist(bins=50, figsize=(22,16))\n",
    "# Trimming Down\n",
    "df_bm = df.loc[:,['Neighborhood','GrLivArea','YearBuilt','OverallQual','CentralAir','SalePrice','FullBath','HalfBath','BsmtFullBath','BsmtHalfBath','TotalBsmtSF','BsmtUnfSF']]\n"
   ]
  },
  {
   "cell_type": "code",
   "execution_count": 10,
   "metadata": {
    "collapsed": true
   },
   "outputs": [],
   "source": [
    "# Creating total bathroom count TotBathroom\n",
    "TotBathroom = df_bm.FullBath + 0.5 * df_bm.HalfBath \\\n",
    "+ df_bm.BsmtFullBath + (0.5) * df_bm.BsmtHalfBath\n",
    "\n",
    "df_bm['TotBathroom'] = TotBathroom\n",
    "\n",
    "# Remove the one's we don't need anymore\n",
    "del df_bm['FullBath']\n",
    "del df_bm['HalfBath']\n",
    "del df_bm['BsmtFullBath']\n",
    "del df_bm['BsmtHalfBath']"
   ]
  },
  {
   "cell_type": "code",
   "execution_count": 11,
   "metadata": {
    "collapsed": true
   },
   "outputs": [],
   "source": [
    "# Creating total square foot TotSF\n",
    "TotSF = df_bm.GrLivArea + df_bm.TotalBsmtSF - df_bm.BsmtUnfSF\n",
    "# Adding to dataset\n",
    "df_bm['TotSF'] = TotSF\n",
    "\n",
    "# Remove the ones we don't need anymore\n",
    "del df_bm['GrLivArea']\n",
    "del df_bm['TotalBsmtSF']\n",
    "del df_bm['BsmtUnfSF']\n"
   ]
  },
  {
   "cell_type": "code",
   "execution_count": 12,
   "metadata": {
    "collapsed": false
   },
   "outputs": [
    {
     "data": {
      "text/html": [
       "<div>\n",
       "<table border=\"1\" class=\"dataframe\">\n",
       "  <thead>\n",
       "    <tr style=\"text-align: right;\">\n",
       "      <th></th>\n",
       "      <th>Neighborhood</th>\n",
       "      <th>YearBuilt</th>\n",
       "      <th>OverallQual</th>\n",
       "      <th>CentralAir</th>\n",
       "      <th>SalePrice</th>\n",
       "      <th>TotBathroom</th>\n",
       "      <th>TotSF</th>\n",
       "    </tr>\n",
       "  </thead>\n",
       "  <tbody>\n",
       "    <tr>\n",
       "      <th>0</th>\n",
       "      <td>CollgCr</td>\n",
       "      <td>2003</td>\n",
       "      <td>7</td>\n",
       "      <td>Y</td>\n",
       "      <td>208500</td>\n",
       "      <td>3.5</td>\n",
       "      <td>2416</td>\n",
       "    </tr>\n",
       "    <tr>\n",
       "      <th>1</th>\n",
       "      <td>Veenker</td>\n",
       "      <td>1976</td>\n",
       "      <td>6</td>\n",
       "      <td>Y</td>\n",
       "      <td>181500</td>\n",
       "      <td>2.5</td>\n",
       "      <td>2240</td>\n",
       "    </tr>\n",
       "    <tr>\n",
       "      <th>2</th>\n",
       "      <td>CollgCr</td>\n",
       "      <td>2001</td>\n",
       "      <td>7</td>\n",
       "      <td>Y</td>\n",
       "      <td>223500</td>\n",
       "      <td>3.5</td>\n",
       "      <td>2272</td>\n",
       "    </tr>\n",
       "    <tr>\n",
       "      <th>3</th>\n",
       "      <td>Crawfor</td>\n",
       "      <td>1915</td>\n",
       "      <td>7</td>\n",
       "      <td>Y</td>\n",
       "      <td>140000</td>\n",
       "      <td>2.0</td>\n",
       "      <td>1933</td>\n",
       "    </tr>\n",
       "    <tr>\n",
       "      <th>4</th>\n",
       "      <td>NoRidge</td>\n",
       "      <td>2000</td>\n",
       "      <td>8</td>\n",
       "      <td>Y</td>\n",
       "      <td>250000</td>\n",
       "      <td>3.5</td>\n",
       "      <td>2853</td>\n",
       "    </tr>\n",
       "  </tbody>\n",
       "</table>\n",
       "</div>"
      ],
      "text/plain": [
       "  Neighborhood  YearBuilt  OverallQual CentralAir  SalePrice  TotBathroom  \\\n",
       "0      CollgCr       2003            7          Y     208500          3.5   \n",
       "1      Veenker       1976            6          Y     181500          2.5   \n",
       "2      CollgCr       2001            7          Y     223500          3.5   \n",
       "3      Crawfor       1915            7          Y     140000          2.0   \n",
       "4      NoRidge       2000            8          Y     250000          3.5   \n",
       "\n",
       "   TotSF  \n",
       "0   2416  \n",
       "1   2240  \n",
       "2   2272  \n",
       "3   1933  \n",
       "4   2853  "
      ]
     },
     "execution_count": 12,
     "metadata": {},
     "output_type": "execute_result"
    }
   ],
   "source": []
  },
  {
   "cell_type": "code",
   "execution_count": 13,
   "metadata": {
    "collapsed": false
   },
   "outputs": [
    {
     "data": {
      "text/html": [
       "<div>\n",
       "<table border=\"1\" class=\"dataframe\">\n",
       "  <thead>\n",
       "    <tr style=\"text-align: right;\">\n",
       "      <th></th>\n",
       "      <th>Neighborhood</th>\n",
       "      <th>YearBuilt</th>\n",
       "      <th>OverallQual</th>\n",
       "      <th>CentralAir</th>\n",
       "      <th>SalePrice</th>\n",
       "      <th>TotBathroom</th>\n",
       "      <th>TotSF</th>\n",
       "    </tr>\n",
       "  </thead>\n",
       "  <tbody>\n",
       "    <tr>\n",
       "      <th>0</th>\n",
       "      <td>CollgCr</td>\n",
       "      <td>2003</td>\n",
       "      <td>7</td>\n",
       "      <td>Y</td>\n",
       "      <td>208500</td>\n",
       "      <td>3.5</td>\n",
       "      <td>2416</td>\n",
       "    </tr>\n",
       "    <tr>\n",
       "      <th>1</th>\n",
       "      <td>Veenker</td>\n",
       "      <td>1976</td>\n",
       "      <td>6</td>\n",
       "      <td>Y</td>\n",
       "      <td>181500</td>\n",
       "      <td>2.5</td>\n",
       "      <td>2240</td>\n",
       "    </tr>\n",
       "    <tr>\n",
       "      <th>2</th>\n",
       "      <td>CollgCr</td>\n",
       "      <td>2001</td>\n",
       "      <td>7</td>\n",
       "      <td>Y</td>\n",
       "      <td>223500</td>\n",
       "      <td>3.5</td>\n",
       "      <td>2272</td>\n",
       "    </tr>\n",
       "    <tr>\n",
       "      <th>3</th>\n",
       "      <td>Crawfor</td>\n",
       "      <td>1915</td>\n",
       "      <td>7</td>\n",
       "      <td>Y</td>\n",
       "      <td>140000</td>\n",
       "      <td>2.0</td>\n",
       "      <td>1933</td>\n",
       "    </tr>\n",
       "    <tr>\n",
       "      <th>4</th>\n",
       "      <td>NoRidge</td>\n",
       "      <td>2000</td>\n",
       "      <td>8</td>\n",
       "      <td>Y</td>\n",
       "      <td>250000</td>\n",
       "      <td>3.5</td>\n",
       "      <td>2853</td>\n",
       "    </tr>\n",
       "  </tbody>\n",
       "</table>\n",
       "</div>"
      ],
      "text/plain": [
       "  Neighborhood  YearBuilt  OverallQual CentralAir  SalePrice  TotBathroom  \\\n",
       "0      CollgCr       2003            7          Y     208500          3.5   \n",
       "1      Veenker       1976            6          Y     181500          2.5   \n",
       "2      CollgCr       2001            7          Y     223500          3.5   \n",
       "3      Crawfor       1915            7          Y     140000          2.0   \n",
       "4      NoRidge       2000            8          Y     250000          3.5   \n",
       "\n",
       "   TotSF  \n",
       "0   2416  \n",
       "1   2240  \n",
       "2   2272  \n",
       "3   1933  \n",
       "4   2853  "
      ]
     },
     "execution_count": 13,
     "metadata": {},
     "output_type": "execute_result"
    }
   ],
   "source": [
    "# Data Preprocessing\n",
    "\n",
    "# deal with missing values in textual columns \n",
    "#replace missing neighborhood with a dummy variable \n",
    "df_bm['Neighborhood'].fillna('fill')\n",
    "#Replace missing ac classification with Y since more likely\n",
    "#and allows us to maintain binary classification\n",
    "df_bm['CentralAir'].fillna('Y')\n",
    "\n",
    "df_bm[:5]"
   ]
  },
  {
   "cell_type": "code",
   "execution_count": null,
   "metadata": {
    "collapsed": true
   },
   "outputs": [],
   "source": []
  }
 ],
 "metadata": {
  "kernelspec": {
   "display_name": "Python 2",
   "language": "python",
   "name": "python2"
  },
  "language_info": {
   "codemirror_mode": {
    "name": "ipython",
    "version": 2
   },
   "file_extension": ".py",
   "mimetype": "text/x-python",
   "name": "python",
   "nbconvert_exporter": "python",
   "pygments_lexer": "ipython2",
   "version": "2.7.13"
  }
 },
 "nbformat": 4,
 "nbformat_minor": 0
}
