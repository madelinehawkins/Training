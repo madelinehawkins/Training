{
 "cells": [
  {
   "cell_type": "code",
   "execution_count": 2,
   "metadata": {
    "collapsed": false
   },
   "outputs": [],
   "source": [
    "# Imports\n",
    "import matplotlib.pyplot as plt\n",
    "import numpy as np\n",
    "import pandas as pd\n",
    "from pandas import Series, DataFrame\n",
    "\n",
    "# Import training data to pandas dataframe\n",
    "df = pd.read_csv(\"train.csv\")\n",
    "# Trimming Down\n",
    "df_bm = df.loc[:,['Neighborhood','GrLivArea','YearBuilt','OverallQual','CentralAir','SalePrice','FullBath','HalfBath','BsmtFullBath','BsmtHalfBath','TotalBsmtSF','BsmtUnfSF']]\n"
   ]
  },
  {
   "cell_type": "code",
   "execution_count": 3,
   "metadata": {
    "collapsed": true
   },
   "outputs": [],
   "source": [
    "# Creating total bathroom count TotBathroom\n",
    "TotBathroom = df_bm.FullBath + 0.5 * df_bm.HalfBath \\\n",
    "+ df_bm.BsmtFullBath + (0.5) * df_bm.BsmtHalfBath\n",
    "\n",
    "df_bm['TotBathroom'] = TotBathroom\n",
    "\n",
    "# Remove the one's we don't need anymore\n",
    "del df_bm['FullBath']\n",
    "del df_bm['HalfBath']\n",
    "del df_bm['BsmtFullBath']\n",
    "del df_bm['BsmtHalfBath']"
   ]
  },
  {
   "cell_type": "code",
   "execution_count": 4,
   "metadata": {
    "collapsed": true
   },
   "outputs": [],
   "source": [
    "# Creating total square foot TotSF\n",
    "TotSF = df_bm.GrLivArea + df_bm.TotalBsmtSF - df_bm.BsmtUnfSF\n",
    "# Adding to dataset\n",
    "df_bm['TotSF'] = TotSF\n",
    "\n",
    "# Remove the ones we don't need anymore\n",
    "del df_bm['GrLivArea']\n",
    "del df_bm['TotalBsmtSF']\n",
    "del df_bm['BsmtUnfSF']\n"
   ]
  },
  {
   "cell_type": "code",
   "execution_count": 5,
   "metadata": {
    "collapsed": false
   },
   "outputs": [
    {
     "data": {
      "text/html": [
       "<div>\n",
       "<table border=\"1\" class=\"dataframe\">\n",
       "  <thead>\n",
       "    <tr style=\"text-align: right;\">\n",
       "      <th></th>\n",
       "      <th>Neighborhood</th>\n",
       "      <th>YearBuilt</th>\n",
       "      <th>OverallQual</th>\n",
       "      <th>CentralAir</th>\n",
       "      <th>SalePrice</th>\n",
       "      <th>TotBathroom</th>\n",
       "      <th>TotSF</th>\n",
       "    </tr>\n",
       "  </thead>\n",
       "  <tbody>\n",
       "    <tr>\n",
       "      <th>0</th>\n",
       "      <td>CollgCr</td>\n",
       "      <td>2003</td>\n",
       "      <td>7</td>\n",
       "      <td>Y</td>\n",
       "      <td>208500</td>\n",
       "      <td>3.5</td>\n",
       "      <td>2416</td>\n",
       "    </tr>\n",
       "    <tr>\n",
       "      <th>1</th>\n",
       "      <td>Veenker</td>\n",
       "      <td>1976</td>\n",
       "      <td>6</td>\n",
       "      <td>Y</td>\n",
       "      <td>181500</td>\n",
       "      <td>2.5</td>\n",
       "      <td>2240</td>\n",
       "    </tr>\n",
       "    <tr>\n",
       "      <th>2</th>\n",
       "      <td>CollgCr</td>\n",
       "      <td>2001</td>\n",
       "      <td>7</td>\n",
       "      <td>Y</td>\n",
       "      <td>223500</td>\n",
       "      <td>3.5</td>\n",
       "      <td>2272</td>\n",
       "    </tr>\n",
       "    <tr>\n",
       "      <th>3</th>\n",
       "      <td>Crawfor</td>\n",
       "      <td>1915</td>\n",
       "      <td>7</td>\n",
       "      <td>Y</td>\n",
       "      <td>140000</td>\n",
       "      <td>2.0</td>\n",
       "      <td>1933</td>\n",
       "    </tr>\n",
       "    <tr>\n",
       "      <th>4</th>\n",
       "      <td>NoRidge</td>\n",
       "      <td>2000</td>\n",
       "      <td>8</td>\n",
       "      <td>Y</td>\n",
       "      <td>250000</td>\n",
       "      <td>3.5</td>\n",
       "      <td>2853</td>\n",
       "    </tr>\n",
       "  </tbody>\n",
       "</table>\n",
       "</div>"
      ],
      "text/plain": [
       "  Neighborhood  YearBuilt  OverallQual CentralAir  SalePrice  TotBathroom  \\\n",
       "0      CollgCr       2003            7          Y     208500          3.5   \n",
       "1      Veenker       1976            6          Y     181500          2.5   \n",
       "2      CollgCr       2001            7          Y     223500          3.5   \n",
       "3      Crawfor       1915            7          Y     140000          2.0   \n",
       "4      NoRidge       2000            8          Y     250000          3.5   \n",
       "\n",
       "   TotSF  \n",
       "0   2416  \n",
       "1   2240  \n",
       "2   2272  \n",
       "3   1933  \n",
       "4   2853  "
      ]
     },
     "execution_count": 5,
     "metadata": {},
     "output_type": "execute_result"
    }
   ],
   "source": [
    "# Data Preprocessing\n",
    "\n",
    "# deal with missing values in textual columns \n",
    "#replace missing neighborhood with a dummy variable \n",
    "df_bm['Neighborhood'].fillna('fill')\n",
    "#Replace missing ac classification with Y since more likely\n",
    "#and allows us to maintain binary classification\n",
    "df_bm['CentralAir'].fillna('Y')\n",
    "\n",
    "df_bm[:5]"
   ]
  },
  {
   "cell_type": "code",
   "execution_count": 6,
   "metadata": {
    "collapsed": false
   },
   "outputs": [
    {
     "data": {
      "text/plain": [
       "Index([u'Neighborhood', u'YearBuilt', u'OverallQual', u'CentralAir',\n",
       "       u'SalePrice', u'TotBathroom', u'TotSF'],\n",
       "      dtype='object')"
      ]
     },
     "execution_count": 6,
     "metadata": {},
     "output_type": "execute_result"
    }
   ],
   "source": [
    "df_bm.columns"
   ]
  },
  {
   "cell_type": "markdown",
   "metadata": {},
   "source": [
    "# Basic Linear Regression"
   ]
  },
  {
   "cell_type": "markdown",
   "metadata": {},
   "source": [
    "# Get input data\n"
   ]
  },
  {
   "cell_type": "code",
   "execution_count": 9,
   "metadata": {
    "collapsed": false,
    "scrolled": true
   },
   "outputs": [],
   "source": [
    "df_X = df_bm.loc[:,['YearBuilt', 'TotSF', 'TotBathroom']]\n",
    "df_y = df_bm.loc[:, ['SalePrice']]"
   ]
  },
  {
   "cell_type": "markdown",
   "metadata": {},
   "source": [
    "# Data Preprocessing"
   ]
  },
  {
   "cell_type": "code",
   "execution_count": 27,
   "metadata": {
    "collapsed": false
   },
   "outputs": [
    {
     "data": {
      "text/html": [
       "<div>\n",
       "<table border=\"1\" class=\"dataframe\">\n",
       "  <thead>\n",
       "    <tr style=\"text-align: right;\">\n",
       "      <th></th>\n",
       "      <th>YearBuilt</th>\n",
       "      <th>TotSF</th>\n",
       "      <th>TotBathroom</th>\n",
       "    </tr>\n",
       "  </thead>\n",
       "  <tbody>\n",
       "    <tr>\n",
       "      <th>0</th>\n",
       "      <td>1.050994</td>\n",
       "      <td>0.529516</td>\n",
       "      <td>1.642256</td>\n",
       "    </tr>\n",
       "    <tr>\n",
       "      <th>1</th>\n",
       "      <td>0.156734</td>\n",
       "      <td>0.302404</td>\n",
       "      <td>0.368581</td>\n",
       "    </tr>\n",
       "    <tr>\n",
       "      <th>2</th>\n",
       "      <td>0.984752</td>\n",
       "      <td>0.343697</td>\n",
       "      <td>1.642256</td>\n",
       "    </tr>\n",
       "    <tr>\n",
       "      <th>3</th>\n",
       "      <td>-1.863632</td>\n",
       "      <td>-0.093752</td>\n",
       "      <td>-0.268257</td>\n",
       "    </tr>\n",
       "    <tr>\n",
       "      <th>4</th>\n",
       "      <td>0.951632</td>\n",
       "      <td>1.093426</td>\n",
       "      <td>1.642256</td>\n",
       "    </tr>\n",
       "  </tbody>\n",
       "</table>\n",
       "</div>"
      ],
      "text/plain": [
       "   YearBuilt     TotSF  TotBathroom\n",
       "0   1.050994  0.529516     1.642256\n",
       "1   0.156734  0.302404     0.368581\n",
       "2   0.984752  0.343697     1.642256\n",
       "3  -1.863632 -0.093752    -0.268257\n",
       "4   0.951632  1.093426     1.642256"
      ]
     },
     "execution_count": 27,
     "metadata": {},
     "output_type": "execute_result"
    }
   ],
   "source": [
    "from sklearn.preprocessing import StandardScaler\n",
    "\n",
    "scaler = StandardScaler()\n",
    "\n",
    "df_X[['YearBuilt', 'TotSF', 'TotBathroom']] \\\n",
    "    = scaler.fit_transform(df_X[['YearBuilt', 'TotSF', 'TotBathroom']])\n",
    "\n",
    "#view transformed set\n",
    "df_X[:5]"
   ]
  },
  {
   "cell_type": "code",
   "execution_count": 49,
   "metadata": {
    "collapsed": true
   },
   "outputs": [],
   "source": [
    "import torch\n",
    "from torch.autograd import Variable"
   ]
  },
  {
   "cell_type": "code",
   "execution_count": 50,
   "metadata": {
    "collapsed": false
   },
   "outputs": [
    {
     "data": {
      "text/plain": [
       "Variable containing:\n",
       " 2.0850e+05\n",
       " 1.8150e+05\n",
       " 2.2350e+05\n",
       "     ⋮      \n",
       " 2.6650e+05\n",
       " 1.4212e+05\n",
       " 1.4750e+05\n",
       "[torch.FloatTensor of size 1460x1]"
      ]
     },
     "execution_count": 50,
     "metadata": {},
     "output_type": "execute_result"
    }
   ],
   "source": [
    "X = Variable(torch.Tensor(df_X.values.tolist()))\n",
    "y = Variable(torch.Tensor(df_y.values.tolist()))"
   ]
  },
  {
   "cell_type": "markdown",
   "metadata": {},
   "source": [
    "# Linear Regression"
   ]
  },
  {
   "cell_type": "code",
   "execution_count": 51,
   "metadata": {
    "collapsed": false
   },
   "outputs": [],
   "source": [
    "W = Variable(torch.ones(3, 1), requires_grad=True)\n",
    "b = Variable(torch.zeros(1460, 1), requires_grad=True)"
   ]
  },
  {
   "cell_type": "code",
   "execution_count": 52,
   "metadata": {
    "collapsed": false
   },
   "outputs": [
    {
     "name": "stdout",
     "output_type": "stream",
     "text": [
      "39038943232.0\n",
      "33250772992.0\n",
      "28784572416.0\n",
      "25366571008.0\n",
      "22319093760.0\n",
      "19552708608.0\n",
      "17028392960.0\n",
      "14703465472.0\n",
      "12575782912.0\n",
      "10644757504.0\n",
      "8909703168.0\n",
      "7368880640.0\n",
      "6019908096.0\n",
      "4858821632.0\n",
      "3878746112.0\n",
      "3067345408.0\n",
      "2409041664.0\n",
      "1884491264.0\n",
      "1473253632.0\n",
      "1153851648.0\n",
      "906195328.0\n",
      "713968640.0\n",
      "564774656.0\n",
      "449220736.0\n",
      "359978816.0\n",
      "290722080.0\n",
      "236055824.0\n",
      "191772416.0\n",
      "155622656.0\n",
      "126096360.0\n",
      "102035144.0\n",
      "82213608.0\n",
      "65710312.0\n",
      "51764076.0\n",
      "40011904.0\n",
      "30230606.0\n",
      "22280650.0\n",
      "15946502.0\n",
      "10978833.0\n",
      "7177645.0\n",
      "4412192.5\n",
      "2484108.0\n",
      "1148490.375\n",
      "375151.125\n",
      "58816.953125\n",
      "0.996343910694\n"
     ]
    }
   ],
   "source": [
    "import torch.nn as nn\n",
    "\n",
    "learning_rate = 1\n",
    "optimizer = torch.optim.Adam([W, b], lr=learning_rate)\n",
    "loss_fxn = nn.MSELoss()\n",
    "t = 0\n",
    "stillTraining = True\n",
    "while (stillTraining):\n",
    "    predictions = X.mm(W) + b\n",
    "    losses = loss_fxn(predictions, y)\n",
    "    if t % 10000 == 0:\n",
    "        print losses.data[0]\n",
    "    if (losses.data[0] < 1):\n",
    "        print losses.data[0]\n",
    "        stillTraining = False\n",
    "    t = t + 1 \n",
    "    optimizer.zero_grad()   \n",
    "    losses.backward()\n",
    "    optimizer.step()"
   ]
  },
  {
   "cell_type": "markdown",
   "metadata": {
    "collapsed": true
   },
   "source": [
    "# Testing"
   ]
  },
  {
   "cell_type": "code",
   "execution_count": null,
   "metadata": {
    "collapsed": true
   },
   "outputs": [],
   "source": []
  }
 ],
 "metadata": {
  "kernelspec": {
   "display_name": "Python 2",
   "language": "python",
   "name": "python2"
  },
  "language_info": {
   "codemirror_mode": {
    "name": "ipython",
    "version": 2
   },
   "file_extension": ".py",
   "mimetype": "text/x-python",
   "name": "python",
   "nbconvert_exporter": "python",
   "pygments_lexer": "ipython2",
   "version": "2.7.13"
  }
 },
 "nbformat": 4,
 "nbformat_minor": 0
}
