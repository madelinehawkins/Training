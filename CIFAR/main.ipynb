{
 "cells": [
  {
   "cell_type": "markdown",
   "metadata": {},
   "source": [
    "Using CIFAR 10 dataset to create a basic image classification problem in PyTorch \n",
    "\n",
    "\n",
    "\n",
    "Check to see if they want to use the advanced way if so here is link: \n",
    "https://github.com/pytorch/examples/blob/master/imagenet/main.py#L167\n"
   ]
  },
  {
   "cell_type": "code",
   "execution_count": 54,
   "metadata": {},
   "outputs": [],
   "source": [
    "import torch\n",
    "import torchvision\n",
    "import torchvision.transforms as transforms\n",
    "import matplotlib.pyplot as plt\n",
    "import numpy as np\n",
    "import math \n",
    "import shutil\n",
    "import os\n"
   ]
  },
  {
   "cell_type": "code",
   "execution_count": null,
   "metadata": {},
   "outputs": [],
   "source": []
  },
  {
   "cell_type": "code",
   "execution_count": 55,
   "metadata": {},
   "outputs": [
    {
     "name": "stdout",
     "output_type": "stream",
     "text": [
      "Files already downloaded and verified\n"
     ]
    }
   ],
   "source": [
    "transform = transforms.Compose([transforms.ToTensor(), transforms.Normalize((0.5, 0.5, 0.5),\n",
    "                                                                          (0.5, 0.5, 0.5))])\n",
    "trainset = torchvision.datasets.CIFAR10(root='./data', train=True, download=True, \n",
    "                                        transform=transform)\n",
    "trainloader = torch.utils.data.DataLoader(trainset, batch_size=4, shuffle=True, num_workers=2)\n",
    "# how_many_images = trainloader.size\n",
    "\n",
    "\n",
    "classes = ('plane', 'car', 'bird', 'cat', 'deer', 'dog', 'frog', 'horse', 'ship', 'truck')"
   ]
  },
  {
   "cell_type": "code",
   "execution_count": 56,
   "metadata": {},
   "outputs": [],
   "source": [
    "from torch.autograd import Variable\n",
    "import torch.nn as nn\n",
    "import torch.nn.functional as F\n",
    "\n",
    "class Net(nn.Module):\n",
    "    def __init__(self): \n",
    "        super(Net, self).__init__()\n",
    "        # In Channels = 3, Out Channels = 6, Kernel Size = 5\n",
    "        self.conv1 = nn.Conv2d(3, 6, 5)\n",
    "        self.pool = nn.MaxPool2d(2, 2)\n",
    "        self.conv2 = nn.Conv2d(6, 16, 5)\n",
    "        self.fc1 = nn.Linear(16 * 5 * 5, 120)\n",
    "        self.fc2 = nn.Linear(120, 84)\n",
    "        self.fc3 = nn.Linear(84, 10)\n",
    "    \n",
    "    def forward(self, x):\n",
    "        batch_size = 16 * 5 * 5\n",
    "        x = self.pool(F.relu(self.conv1(x)))\n",
    "        x = self.pool(F.relu(self.conv2(x)))\n",
    "        x = x.view(-1, batch_size)\n",
    "        x = F.relu(self.fc1(x))\n",
    "        x = F.relu(self.fc2(x))\n",
    "        x = self.fc3(x)\n",
    "        return x\n",
    "    \n",
    "net = Net()"
   ]
  },
  {
   "cell_type": "code",
   "execution_count": 57,
   "metadata": {},
   "outputs": [],
   "source": [
    "import torch.optim as optim\n",
    "\n",
    "criterion = nn.CrossEntropyLoss() \n",
    "optimizer = optim.SGD(net.parameters(), lr=0.001, momentum=0.9)"
   ]
  },
  {
   "cell_type": "code",
   "execution_count": 58,
   "metadata": {},
   "outputs": [],
   "source": [
    "# This function is used for saving the current checkpoint after every epoch and also\n",
    "# saving it as the best model if it is the best. \n",
    "def save_checkpoint(state, is_best, filename='checkpoint.pth.tar'):\n",
    "    torch.save(state, filename)\n",
    "    if is_best:\n",
    "        shutil.copyfile(filename, 'model_best.pth.tar')"
   ]
  },
  {
   "cell_type": "code",
   "execution_count": 59,
   "metadata": {},
   "outputs": [],
   "source": [
    "def train(): \n",
    "    for epoch in range(2): \n",
    "        running_loss = 0.0\n",
    "        biggest_loss = 0\n",
    "        best_loss = 1000000\n",
    "        for i, data in enumerate(trainloader, 0): \n",
    "            inputs, labels = data\n",
    "            inputs, labels = Variable(inputs), Variable(labels)\n",
    "            \n",
    "            optimizer.zero_grad()\n",
    "\n",
    "            outputs = net(inputs)\n",
    "            loss = criterion(outputs, labels)\n",
    "            loss.backward()\n",
    "            optimizer.step()\n",
    "\n",
    "            running_loss += loss.data[0]\n",
    "            if i % 2000 == 1999: \n",
    "                print('[%d, %5d] loss: %.3f' % \n",
    "                     (epoch + 1, i + 1, running_loss / 2000))\n",
    "                \n",
    "                # Finding the biggest loss by baches of 2000 \n",
    "                biggest_loss = max((running_loss / 2000), biggest_loss)\n",
    "                #if ((running_loss / 2000) > biggest_loss):\n",
    "                #   biggest_loss = running_loss / 2000\n",
    "                running_loss = 0.0\n",
    "                \n",
    "        # Saving checkpoint of model after every epoch so we can use it later \n",
    "        is_best = biggest_loss < best_loss\n",
    "        best_loss = max(biggest_loss, best_loss)\n",
    "        save_checkpoint({\n",
    "            'epoch': epoch + 1,\n",
    "            'state_dict': net.state_dict(),\n",
    "            'best_loss': best_loss,\n",
    "            'optimizer' : optimizer.state_dict(),\n",
    "        }, is_best)\n",
    "\n",
    "    print('Finished Training')"
   ]
  },
  {
   "cell_type": "code",
   "execution_count": 60,
   "metadata": {},
   "outputs": [
    {
     "name": "stdout",
     "output_type": "stream",
     "text": [
      "[1,  2000] loss: 2.187\n",
      "[1,  4000] loss: 1.856\n",
      "[1,  6000] loss: 1.674\n",
      "[1,  8000] loss: 1.572\n",
      "[1, 10000] loss: 1.534\n",
      "[1, 12000] loss: 1.491\n",
      "[2,  2000] loss: 1.406\n",
      "[2,  4000] loss: 1.376\n",
      "[2,  6000] loss: 1.355\n",
      "[2,  8000] loss: 1.327\n",
      "[2, 10000] loss: 1.310\n",
      "[2, 12000] loss: 1.278\n",
      "Finished Training\n"
     ]
    }
   ],
   "source": [
    "train()"
   ]
  },
  {
   "cell_type": "code",
   "execution_count": 61,
   "metadata": {},
   "outputs": [
    {
     "name": "stdout",
     "output_type": "stream",
     "text": [
      "=> loading checkpoint 'checkpoint.pth.tar'\n",
      "=> loaded checkpoint 'checkpoint.pth.tar' (epoch 2)\n",
      "[1,  2000] loss: 1.218\n",
      "[1,  4000] loss: 1.220\n",
      "[1,  6000] loss: 1.201\n",
      "[1,  8000] loss: 1.194\n",
      "[1, 10000] loss: 1.197\n",
      "[1, 12000] loss: 1.162\n",
      "[2,  2000] loss: 1.103\n",
      "[2,  4000] loss: 1.121\n",
      "[2,  6000] loss: 1.091\n",
      "[2,  8000] loss: 1.094\n",
      "[2, 10000] loss: 1.099\n",
      "[2, 12000] loss: 1.106\n",
      "Finished Training\n"
     ]
    }
   ],
   "source": [
    "model = Net()\n",
    "resume = True \n",
    "file_checkpoint = 'checkpoint.pth.tar'\n",
    "file_best = 'model_best.pth.tar'\n",
    "\n",
    "if resume:\n",
    "        if os.path.isfile(file_checkpoint):\n",
    "            print(\"=> loading checkpoint '{}'\".format(file_checkpoint))\n",
    "            checkpoint = torch.load(file_checkpoint)\n",
    "            start_epoch = checkpoint['epoch']\n",
    "            best_loss = checkpoint['best_loss']\n",
    "            model.load_state_dict(checkpoint['state_dict'])\n",
    "            optimizer.load_state_dict(checkpoint['optimizer'])\n",
    "            print(\"=> loaded checkpoint '{}' (epoch {})\"\n",
    "                  .format(file_checkpoint, checkpoint['epoch']))\n",
    "        else:\n",
    "            print(\"=> no checkpoint found at '{}'\".format(file_checkpoint))\n",
    "            \n",
    "train()"
   ]
  }
 ],
 "metadata": {
  "kernelspec": {
   "display_name": "Python 3",
   "language": "python",
   "name": "python3"
  },
  "language_info": {
   "codemirror_mode": {
    "name": "ipython",
    "version": 3
   },
   "file_extension": ".py",
   "mimetype": "text/x-python",
   "name": "python",
   "nbconvert_exporter": "python",
   "pygments_lexer": "ipython3",
   "version": "3.5.4"
  }
 },
 "nbformat": 4,
 "nbformat_minor": 2
}
