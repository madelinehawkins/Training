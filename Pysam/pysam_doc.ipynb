{
 "cells": [
  {
   "cell_type": "markdown",
   "metadata": {
    "collapsed": true
   },
   "source": [
    "# Pysam Explained\n",
    "1. [BAM Files](#BAM)\n",
    "2. [VCF Files](#VCF)\n",
    "3. [Fasta Files](#FASTA)\n",
    "\n"
   ]
  },
  {
   "cell_type": "code",
   "execution_count": 1,
   "metadata": {},
   "outputs": [],
   "source": [
    "import pysam"
   ]
  },
  {
   "cell_type": "markdown",
   "metadata": {},
   "source": [
    "## BAM\n",
    "1. [Opening a BAM File](#Opening)\n",
    "2. [Using Fetch with BAM](#Fetch)\n",
    "3. [Pileups and BAM](#Pileup)"
   ]
  },
  {
   "cell_type": "markdown",
   "metadata": {},
   "source": [
    "### Opening\n",
    "Opening a BAM File requires you to use the AlignmentFile class. \n",
    "AlignmentFile(filepath_or_object, mode=None)\n",
    "1.  filepath_or_object: Just the filepath/object to the .bam file\n",
    "2.  mode: r/w for reading/writing sam files; rb/wb for reading/writing bam files\n",
    "\n",
    "Example: Opening a BAM file for reading. "
   ]
  },
  {
   "cell_type": "code",
   "execution_count": 2,
   "metadata": {},
   "outputs": [
    {
     "name": "stdout",
     "output_type": "stream",
     "text": [
      "('chrM', 'chr1', 'chr2', 'chr3', 'chr4', 'chr5', 'chr6', 'chr7', 'chr8', 'chr9', 'chr10', 'chr11', 'chr12', 'chr13', 'chr14', 'chr15', 'chr16', 'chr17', 'chr18', 'chr19', 'chr20', 'chr21', 'chr22', 'chrX', 'chrY')\n",
      "(16571, 249250621, 243199373, 198022430, 191154276, 180915260, 171115067, 159138663, 146364022, 141213431, 135534747, 135006516, 133851895, 115169878, 107349540, 102531392, 90354753, 81195210, 78077248, 59128983, 63025520, 48129895, 51304566, 155270560, 59373566)\n"
     ]
    }
   ],
   "source": [
    "bamfile = pysam.AlignmentFile('chr1.sorted.bam', 'rb')\n",
    "\n",
    "# Returns a tuple of the references in the bamfile\n",
    "print(bamfile.references)\n",
    "# Returns a tuple of the legnths of references. \n",
    "print(bamfile.lengths)"
   ]
  },
  {
   "cell_type": "markdown",
   "metadata": {},
   "source": [
    "### Fetch\n",
    "fetch(self, contig=None, start=None, stop=None, region=None, tid=None, until_eof=False, multiple_iterators=False, reference=None, end=None)\n",
    "\n",
    "fetch returns an iterator of all reads overlapping a region. Sorted by the first algined base. Including reads that are partially overlapping. \n",
    "\n",
    "**Fetch only iterates over the reads, if you want to extract information use pileup** \n",
    "\n",
    "**Parameters:**\n",
    "\n",
    "contig: The sequence that a tid refers to. For example chr1, contig123.\n",
    "\n",
    "tid: The target id. The target id is 0 or a positive integer mapping to entries within the sequence dictionary in the header section of a TAM file or BAM file.\n",
    "\n",
    "until_eof(bool): If true all reads from the current file position will be returned in order as they are wihtin the file. Using this option will also fetch unmapped reads. \n",
    "\n",
    "multiple_iterators(bool): If true, multiple iterators on the same file can be used at the same time. The iterator returned will receive its own copy of a filehandle to the file effectively re-opening the file. Re-opening a file creates some overhead, so beware.\n",
    "\n",
    "**Return Type:** An iterator over a collection of reads. \n",
    "\n",
    "ValueError – if the genomic coordinates are out of range or invalid or the file does not permit random access to genomic coordinates.\n",
    "\n",
    "Without a contig or region all mapped reads in the file will be fetched. The reads will be returned ordered by reference sequence, which will not necessarily be the order within the file. This mode of iteration still requires an index. If there is no index, use until_eof=True.\n",
    "\n",
    "If only reference is set, all reads aligned to reference will be fetched.\n",
    "\n",
    "A SAM file does not allow random access. If region or contig are given, an exception is raised."
   ]
  },
  {
   "cell_type": "code",
   "execution_count": 4,
   "metadata": {},
   "outputs": [
    {
     "name": "stdout",
     "output_type": "stream",
     "text": [
      "HSQ1004:134:C0D8DACXX:2:1107:7396:136241\t83\t1\t99999900\t60\t101M\t1\t99999695\t101\tCTTCATTCGTTTGTTTTGTTGTTTCTATGGCACAGTTATAGTTCCTGGGAGCCCCGCAGAACATGGTGTTTTATTCTGACACTATATATCTAGCACTTGCA\tarray('B', [18, 34, 34, 34, 33, 31, 33, 27, 23, 32, 23, 32, 27, 33, 32, 27, 32, 30, 33, 30, 25, 25, 34, 31, 34, 34, 34, 32, 25, 26, 20, 12, 34, 34, 34, 34, 34, 34, 36, 34, 32, 32, 30, 30, 30, 33, 33, 30, 37, 39, 39, 33, 37, 31, 36, 39, 38, 38, 36, 40, 40, 38, 37, 36, 34, 38, 31, 36, 40, 37, 38, 39, 36, 40, 40, 39, 39, 33, 39, 40, 40, 40, 36, 37, 36, 31, 37, 37, 27, 32, 30, 37, 37, 36, 35, 30, 30, 37, 31, 34, 31])\t[('RG', 'NA12878'), ('XT', 'U'), ('NM', 0), ('SM', 37), ('AM', 37), ('X0', 1), ('X1', 0), ('XM', 0), ('XO', 0), ('XG', 0), ('MD', '101')]\n",
      "HSQ1004:134:C0D8DACXX:3:2106:6980:17066\t147\t1\t99999903\t60\t101M\t1\t99999697\t101\tCATTCGTTTGTTTTGTTGTTTCTATGGCACAGTTATAGTTCCTGGGAGCCCCGCAGAACATGGTGTTTTATTCTGACACTATATATCTAGCACTTGCACTG\tarray('B', [30, 35, 33, 35, 35, 35, 35, 35, 35, 35, 35, 35, 35, 35, 35, 35, 35, 35, 35, 35, 35, 35, 35, 35, 35, 35, 35, 34, 35, 35, 35, 35, 35, 35, 35, 35, 35, 36, 36, 34, 35, 37, 37, 37, 37, 39, 39, 36, 38, 36, 38, 38, 34, 40, 41, 41, 41, 41, 40, 41, 41, 41, 40, 40, 41, 41, 41, 41, 41, 41, 41, 40, 40, 41, 40, 39, 39, 39, 40, 41, 41, 41, 40, 41, 39, 40, 41, 41, 39, 39, 38, 39, 39, 37, 37, 37, 37, 35, 34, 31, 31])\t[('RG', 'NA12878'), ('XT', 'U'), ('NM', 0), ('SM', 37), ('AM', 37), ('X0', 1), ('X1', 0), ('XM', 0), ('XO', 0), ('XG', 0), ('MD', '101')]\n",
      "HSQ1004:134:C0D8DACXX:4:2303:4821:180504\t147\t1\t99999906\t60\t101M\t1\t99999641\t101\tTCGTTTGTTTTGTTGTTTCTATGGCACAGTTATAGTTCCTGGGAGCCCCGCAGAACATGGTGTTTTATTCTGACACTATATATCTAGCACTTGCACTGTAA\tarray('B', [35, 35, 35, 35, 35, 35, 35, 35, 35, 33, 35, 35, 35, 35, 35, 35, 35, 35, 35, 35, 35, 35, 35, 35, 35, 35, 35, 35, 35, 35, 35, 35, 35, 35, 35, 35, 35, 35, 36, 36, 35, 37, 37, 37, 39, 40, 41, 40, 39, 39, 39, 41, 41, 41, 41, 41, 41, 41, 41, 40, 38, 41, 40, 41, 41, 40, 40, 41, 41, 41, 41, 41, 38, 39, 39, 41, 41, 40, 41, 41, 41, 41, 40, 41, 41, 39, 39, 39, 37, 39, 39, 39, 38, 37, 37, 37, 37, 37, 34, 34, 34])\t[('RG', 'NA12878'), ('XT', 'U'), ('NM', 0), ('SM', 37), ('AM', 37), ('X0', 1), ('X1', 0), ('XM', 0), ('XO', 0), ('XG', 0), ('MD', '101')]\n"
     ]
    }
   ],
   "source": [
    "# 'Fetches' all reads aligned to region 100000001, look at that mess\n",
    "x = 0\n",
    "for read in bamfile.fetch('chr1', 100000000, 100000001):\n",
    "    # Only printing the first 3\n",
    "    if x < 3: \n",
    "        print(read)\n",
    "    x = x + 1"
   ]
  },
  {
   "cell_type": "markdown",
   "metadata": {},
   "source": [
    "### Pileup\n",
    "perform a pileup within a region. Alternative way of accessing the data in a SAM/BAM file by iterating over each base of a specified region. Each iteration returns a PileupColumn which represents all the reads in the BAM/SAM file that map to a single base in teh reference sequence. The list of reads are represented as PileupRead objects in the PileupColumn.pileups property. \n",
    "\n",
    "Without ‘contig’ or ‘region’ all reads will be used for the pileup. The reads will be returned ordered by contig sequence, which will not necessarily be the order within the file.\n",
    "\n",
    "Note that SAM formatted files do not allow random access. In these files, if a ‘region’ or ‘contig’ are given an exception is raised.\n",
    "\n",
    "‘all’ reads which overlap the region are returned. The first base returned will be the first base of the first read ‘not’ necessarily the first base of the region used in the query.\n",
    "\n",
    "** bamefile.pileup (PileupColumn) -> pileupcol.pileups (PileupRead) -> pileupreads.alignment (AlignedSegment) **"
   ]
  },
  {
   "cell_type": "markdown",
   "metadata": {},
   "source": [
    "#### PileupColumn\n",
    "A pileup of reads at a particular reference sequence position (column). A pileup column contains all the reads that map to a certain target base.\n",
    "\n",
    "**Handy Tools:**\n",
    "* nsegments: number of reads mapping to this column\n",
    "* pileups: list of reads (pysam.PileupRead) aligned to this column\n",
    "* reference_id: the reference sequence number as defined in the header\n",
    "* reference_name: reference name\n",
    "* reference_pos: position in the reference sequence (0-based) "
   ]
  },
  {
   "cell_type": "markdown",
   "metadata": {},
   "source": [
    "#### PileupRead \n",
    "Representation of a read aligned to a particular position in the reference sequence. \n",
    "\n",
    "**Handy Tools:** \n",
    "* alignment: a pysam.AlignedSegment object of the aligned read\n",
    "* indel: (insertion or deletion of bases in the genome) indel length for the position following the current pileup site. This quantity peeks ahead to the next cigar operation in this alignment. If the next operation is an insertion, indel will be positive. If the next operation is a deletion, it will be negation. 0 if the next operation is not an indel.\n",
    "* is_del: 1 iff the base on the padded read is deletion\n",
    "* is_head: 1 iff the base on the padded read is left-most base. \n",
    "* is_refskip: 1 iff the base on the padded read is part of CIGAR N op.\n",
    "* is_tail: 1 iff the base on the padded read is the right-most base. \n",
    "* query_position: position of the read base at the pileup site, 0-based. None if is_del or is_refskip is set.\n",
    "* query_position_or_next: position of the read base at the pileup site, 0-based. If the current position is a deletion, returns the next aligned base.\n",
    "\n"
   ]
  },
  {
   "cell_type": "markdown",
   "metadata": {},
   "source": [
    "#### AlignedSegment\n",
    "Class representing an aligned segment.\n",
    "\n",
    "**Useful Information of the Segment**\n",
    "1. cigarstring: the cigar alignment as a string\n",
    "2. cigartuples: the cigar alignment.\n",
    "\n",
    " Returned as a list of tuples of (operation, length). E.g. [(0, 30)] meaning 30M. \n",
    "\n",
    "| Char | Name           | # |\n",
    "| - | -------------- | - |\n",
    "| M | BAM_CMATCH     | 0 |\n",
    "| I | BAM_CINS       | 1 |\n",
    "| D | BAM_CDEL       | 2 |\n",
    "| N | BAM_CREF_SKIP  | 3 |\n",
    "| S | BAM_CSOFT_CLIP | 4 |\n",
    "| H | BAM_CHARD_CLIP | 5 |\n",
    "| P | BAM_CPAD       | 6 |\n",
    "| = | BAM_CEQUAL     | 7 |\n",
    "| X | BAM_CDIFF      | 8 |\n",
    "| B | BAM_CBACK      | 9 |\n",
    "\n",
    "\n",
    "3. compare(self, AlignedSegment other)\n",
    " return -1,0,1, if contents in this are binary <,=,> to other\n",
    "\n",
    "4. mapping_quality\n",
    " mapping quality of the specific read to the reference sequence. \n",
    " \n",
    "5. next_reference_id\n",
    " the reference id of the mate/next read. \n",
    " In this case we only grab chr1 so the next will always be 1, the id for chr1. \n",
    "\n",
    "6. next_reference_name\n",
    " reference name of the mate/next read (None if no AlignmentFile is associated)\n",
    " In this case we only grab chr1 so the next will always be chr1. \n",
    "\n",
    "\n",
    "**Gets**\n",
    "1. get_aligned_pairs(self, matches_only=False, with_seq=False)\n",
    "\n",
    " a list of aligned read(query) and reference positions\n",
    " For inserts, deletions, skipping either query or reference pos may be none\n",
    " \n",
    " Parameters\n",
    " * matches_only(bool): if True, only matched bases are returned - no None on either side\n",
    " * with_seq(bool): if True, return a third element in the tuple containing the reference seq. Subs are lower case. This option requires an MD tag to be present. \n",
    " \n",
    " Returns: aligned_pairs, list of tuples\n",
    "2. get_blocks()\n",
    "\n",
    " a list of start and end positions of aligned gapless blocks. So in english terms the start and end position for each read with matching\n",
    "\n",
    " The start and end positions are in genomic coordinates.\n",
    "\n",
    " Blocks are not normalized, i.e. two blocks might be directly adjacent. This happens if the two   blocks are separated by an insertion in the read.\n",
    " \n",
    "3. get_reference_positions(self, full_length=False)\n",
    "\n",
    " a list of reference positions that this read aligns to.\n",
    "\n",
    " By default, this method only returns positions in the reference that are within the alignment.    If full_length is set, None values will be included for any soft-clipped or unaligned positions    within the read. The returned list will thus be of the same length as the read.\n",
    " \n",
    "4. get_reference_sequence(self)\n",
    "\n",
    " return the reference sequence.\n",
    "\n",
    " This method requires the MD tag to be set.\n",
    " \n",
    "**IS_THIS**\n",
    "* is_paired\n",
    " true if read is paired in sequencing\n",
    "* is_reverse\n",
    " true if read is mapped to reverse strand\n",
    "* is_secondary\n",
    " true if not primary alignment\n",
    "\n",
    "**Queries**\n",
    "* query_alignment_end\n",
    " end index of the aligned query portion of the sequence (0-based, exclusive).\n",
    "\n",
    " This the index just past the last base in seq that is not soft-clipped.\n"
   ]
  },
  {
   "cell_type": "markdown",
   "metadata": {},
   "source": [
    "Examples for looking at CIGAR "
   ]
  },
  {
   "cell_type": "code",
   "execution_count": 11,
   "metadata": {},
   "outputs": [
    {
     "name": "stdout",
     "output_type": "stream",
     "text": [
      "Reference Sequence: CTTCATTCGTTTGTTTTGTTGTTTCTATGGCACAGTTATAGTTCCTGGGAGCCCCGCAGAACATGGTGTTTTATTCTGACACTATATATCTAGCACTTGCA\n",
      "Cigar Tuple: [(0, 101)]\n",
      "Cigar String 101M\n",
      "Reference Sequence: CTTCATTCGTTTGTTTTGTTGTTTCTATGGCACAGTTATAGTTCCTGGGAGCCCCGCAGAACATGGTGTTTTATTCTGACACTATATATCTAGCACTTGCA\n",
      "Cigar Tuple: [(0, 101)]\n",
      "Cigar String 101M\n",
      "Reference Sequence: CTTCATTCGTTTGTTTTGTTGTTTCTATGGCACAGTTATAGTTCCTGGGAGCCCCGCAGAACATGGTGTTTTATTCTGACACTATATATCTAGCACTTGCA\n",
      "Cigar Tuple: [(0, 101)]\n",
      "Cigar String 101M\n"
     ]
    }
   ],
   "source": [
    "x = 0\n",
    "for pileup_col in bamfile.pileup('chr1', 100000000, 100000001):\n",
    "    for pileup_read in pileup_col.pileups: \n",
    "        # Query Position is None if is deletion or is refskip, only printing first 3\n",
    "        if not pileup_read.is_del and not pileup_read.is_refskip and x < 3:\n",
    "            print('Reference Sequence:', pileup_read.alignment.get_reference_sequence())\n",
    "            print('Cigar Tuple:', pileup_read.alignment.cigartuples)\n",
    "            print('Cigar String', pileup_read.alignment.cigarstring)\n",
    "            x = x + 1\n",
    "            "
   ]
  },
  {
   "cell_type": "markdown",
   "metadata": {},
   "source": [
    "Examples of query functions\n",
    "**query_alignment_length is not equivalent to query_length**\n",
    "query_length is the length of the whole query whereas the prior is the length of algined sequence. \n",
    "**get_reference_sequence is identical to query_alignment_sequence**\n"
   ]
  },
  {
   "cell_type": "code",
   "execution_count": 12,
   "metadata": {},
   "outputs": [
    {
     "name": "stdout",
     "output_type": "stream",
     "text": [
      "Query Align Seq: CTTCATTCGTTTGTTTTGTTGTTTCTATGGCACAGTTATAGTTCCTGGGAGCCCCGCAGAACATGGTGTTTTATTCTGACACTATATATCTAGCACTTGCA\n",
      "Query Align Seq: CTTCATTCGTTTGTTTTGTTGTTTCTATGGCACAGTTATAGTTCCTGGGAGCCCCGCAGAACATGGTGTTTTATTCTGACACTATATATCTAGCACTTGCA\n",
      "Query Align Seq: CTTCATTCGTTTGTTTTGTTGTTTCTATGGCACAGTTATAGTTCCTGGGAGCCCCGCAGAACATGGTGTTTTATTCTGACACTATATATCTAGCACTTGCA\n"
     ]
    }
   ],
   "source": [
    "x = 0\n",
    "for pileup_col in bamfile.pileup('chr1', 100000000, 100000001):\n",
    "    for pileup_read in pileup_col.pileups: \n",
    "        # Query Position is None if is deletion or is refskip\n",
    "        if not pileup_read.is_del and not pileup_read.is_refskip and x < 3:\n",
    "            print('Query Align Seq:', pileup_read.alignment.query_alignment_sequence)\n",
    "            x = x + 1"
   ]
  },
  {
   "cell_type": "code",
   "execution_count": 13,
   "metadata": {},
   "outputs": [],
   "source": [
    "# Always remember to close your bamfile!\n",
    "bamfile.close()"
   ]
  },
  {
   "cell_type": "markdown",
   "metadata": {},
   "source": [
    "## VCF\n",
    "1. Opening a VCF File "
   ]
  },
  {
   "cell_type": "markdown",
   "metadata": {},
   "source": [
    "### Opening a VCF File\n",
    "Opening a VCF File requires you to use the VariantFile class. VariantFile(filename, mode=None, drop_samples=False)\n",
    "1. filename: Just the filepath/object to the .vcf file \n",
    "2. mode: r/w for reading/writing vcf files; rb/wb for reading/writing bcf files\n",
    "3. drop_samples(bool): Ignore sample information when reading. \n",
    "\n",
    "Example: Opening a vcf file for reading. Note if mode not dectected it will guess. For most files this will work like in the one below. "
   ]
  },
  {
   "cell_type": "code",
   "execution_count": 14,
   "metadata": {},
   "outputs": [],
   "source": [
    "vcf_in = pysam.VariantFile('NA12878_S1.genome.vcf.gz')"
   ]
  },
  {
   "cell_type": "markdown",
   "metadata": {},
   "source": [
    "### Fetch\n",
    "fetch(self, contig=None, start=None, stop=None, region=None, reopen=False, end=None, reference=None)\n",
    "\n",
    "fetch records in a region (uses 0-based indexing). The region is specified by **contig, start and end**. Without those all mapped records will be fetched. Order will be by config not necessarily by order within the file. \n",
    "\n",
    "**reopen** will be true if you will be using multiple iterators on the same file at the same time. \n"
   ]
  },
  {
   "cell_type": "markdown",
   "metadata": {},
   "source": [
    "VariantRecord\n",
    "**Useful Functions**\n",
    "* alleles\n",
    " tuple of reference allele followed by alt alleles\n",
    "* contig\n",
    " chromosome/contig name\n",
    "* copy()\n",
    " returns a copy of the Variant Record object\n",
    "* ref\n",
    " reference allele\n",
    "* rlen\n",
    " record length on chrom/contig \n",
    "* start/stop\n",
    " record start and stop position on chrom/contig (0-based)\n",
    "* qual\n",
    " phred scaled quality score or None if not available"
   ]
  },
  {
   "cell_type": "code",
   "execution_count": 15,
   "metadata": {},
   "outputs": [
    {
     "name": "stdout",
     "output_type": "stream",
     "text": [
      "Chromosome: chr1\n",
      "Position: 99796\n",
      "Allele: ('C',)\n",
      "Reference Allele: C\n",
      "Length: 853\n",
      "Start Pos: 99795\n",
      "Stop Pos: 100648\n"
     ]
    }
   ],
   "source": [
    "for rec in vcf_in.fetch('chr1', 100000, 100001):\n",
    "    print('Chromosome:', rec.contig)\n",
    "    print('Position:', rec.pos)\n",
    "    print('Allele:', rec.alleles)\n",
    "    print('Reference Allele:', rec.ref)\n",
    "    print('Length:', rec.rlen)\n",
    "    print('Start Pos:', rec.start)\n",
    "    print('Stop Pos:', rec.stop)\n",
    "    "
   ]
  },
  {
   "cell_type": "code",
   "execution_count": 16,
   "metadata": {},
   "outputs": [],
   "source": [
    "# Always remember to close your file!\n",
    "vcf_in.close()"
   ]
  },
  {
   "cell_type": "markdown",
   "metadata": {},
   "source": [
    "## FASTA\n",
    "1. [Opening a FASTA File](#Opening)\n",
    "2. [Using fetch with FASTA](#Fetch)\n",
    "3. [Reference Length](#Reference_Length)\n",
    "4. [Useful Functions](#Useful_Functions)"
   ]
  },
  {
   "cell_type": "markdown",
   "metadata": {},
   "source": [
    "### Opening\n",
    "Opening a FASTA file requires you to use the FastaFile class. FastaFile(filename)\n",
    "1. filename: Just the filepath/object to the fasta file. \n",
    "\n",
    "Raises:\t\n",
    "\n",
    "ValueError – if index file is missing\n",
    "\n",
    "IOError – if file could not be opened"
   ]
  },
  {
   "cell_type": "code",
   "execution_count": 17,
   "metadata": {},
   "outputs": [],
   "source": [
    "fasta_in = pysam.FastaFile('chr1.fa')"
   ]
  },
  {
   "cell_type": "markdown",
   "metadata": {
    "collapsed": true
   },
   "source": [
    "### Fetch\n",
    "fetch(self, reference=None, start=None, end=None, region=None)\n",
    "\n",
    "Fetch sequences in a region.\n",
    "\n",
    "A region can either be specified by reference, start and end. \n",
    "\n",
    "Alternatively, a samtools region string can be supplied.\n",
    "\n",
    "If any of the coordinates are missing they will be replaced by the minimum (start) or maximum (end) coordinate.\n",
    "\n",
    "Note that region strings are 1-based, while start and end denote an interval in python coordinates. The region is specified by reference, start and end.\n",
    "\n",
    "Returns: string\n",
    "\n",
    "Return type: a string with the sequence specified by the region.\n",
    "\n",
    "Raises:\t\n",
    "IndexError – if the coordinates are out of range\n",
    "ValueError – if the region is invalid"
   ]
  },
  {
   "cell_type": "code",
   "execution_count": 18,
   "metadata": {},
   "outputs": [
    {
     "name": "stdout",
     "output_type": "stream",
     "text": [
      "actaa\n",
      "a\n",
      "c\n",
      "t\n",
      "a\n",
      "a\n"
     ]
    }
   ],
   "source": [
    "# Returns a string with the sequence \n",
    "sequence = fasta_in.fetch('chr1', start=100000, end=100005)\n",
    "print(sequence)\n",
    "# Iterates over each character in the string \n",
    "for x in fasta_in.fetch('chr1', start=100000, end=100005):\n",
    "    print(x)"
   ]
  },
  {
   "cell_type": "markdown",
   "metadata": {},
   "source": [
    "### Reference_Length\n",
    "get_reference_length(self, reference)\n",
    "\n",
    "Return the length of reference in a form of an int."
   ]
  },
  {
   "cell_type": "code",
   "execution_count": 19,
   "metadata": {},
   "outputs": [
    {
     "name": "stdout",
     "output_type": "stream",
     "text": [
      "249250621\n"
     ]
    }
   ],
   "source": [
    "length_of_reference = fasta_in.get_reference_length('chr1')\n",
    "print(length_of_reference)"
   ]
  },
  {
   "cell_type": "markdown",
   "metadata": {},
   "source": [
    "### Useful_Functions\n",
    "1. is_open(self): Returns True or False based on if a FASTA file has been open or not\n",
    "2. lengths: Returns a tuple of lengths of references in the specific FASTA file\n",
    "3. nreferences: Returns an int of the number of references a FASTA File has\n",
    "4. references: Returns a tuple of the references in the FASTA file"
   ]
  },
  {
   "cell_type": "code",
   "execution_count": 20,
   "metadata": {},
   "outputs": [
    {
     "name": "stdout",
     "output_type": "stream",
     "text": [
      "Is Open?: True\n",
      "Length: [249250621]\n",
      "Number of References: 1\n",
      "References: ['chr1']\n"
     ]
    }
   ],
   "source": [
    "print('Is Open?:', fasta_in.is_open())\n",
    "print('Length:', fasta_in.lengths)\n",
    "print('Number of References:', fasta_in.nreferences)\n",
    "print('References:', fasta_in.references)"
   ]
  },
  {
   "cell_type": "code",
   "execution_count": 21,
   "metadata": {},
   "outputs": [],
   "source": [
    "fasta_in.close()"
   ]
  },
  {
   "cell_type": "code",
   "execution_count": null,
   "metadata": {},
   "outputs": [],
   "source": []
  }
 ],
 "metadata": {
  "kernelspec": {
   "display_name": "Python 3",
   "language": "python",
   "name": "python3"
  },
  "language_info": {
   "codemirror_mode": {
    "name": "ipython",
    "version": 3
   },
   "file_extension": ".py",
   "mimetype": "text/x-python",
   "name": "python",
   "nbconvert_exporter": "python",
   "pygments_lexer": "ipython3",
   "version": "3.5.4"
  }
 },
 "nbformat": 4,
 "nbformat_minor": 1
}
